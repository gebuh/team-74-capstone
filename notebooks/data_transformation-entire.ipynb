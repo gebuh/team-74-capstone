{
 "cells": [
  {
   "cell_type": "code",
   "execution_count": null,
   "id": "06af70bf",
   "metadata": {},
   "outputs": [],
   "source": [
    "# run requirements.txt for all dependencies\n",
    "\n",
    "\n",
    "import pandas as pd\n",
    "import numpy as np\n",
    "import glob\n",
    "import os\n",
    "import dask\n",
    "import dask.dataframe as dd\n",
    "import dask.array as da\n",
    "#import scripts.dask_impl as di\n",
    "import re\n",
    "# from pandas_profiling import ProfileReport\n",
    "import matplotlib.pyplot as plt\n",
    "import statsmodels.api as sm\n",
    "import statsmodels.formula.api as sfm\n",
    "\n",
    "import seaborn as sns\n",
    "from matplotlib.widgets import Slider, Button, RadioButtons\n",
    "from scipy import interp\n",
    "from scipy.optimize import fsolve\n",
    "from scipy.stats import chi2_contingency, ttest_ind\n",
    "from sklearn.metrics import roc_curve, auc\n",
    "from sklearn.model_selection import StratifiedKFold\n",
    "from statsmodels.formula.api import ols\n",
    "\n",
    "\n",
    "from IPython.display import display_html\n",
    "\n",
    "from scipy import stats\n",
    "\n",
    "%matplotlib inline\n",
    "plt.style.use('ggplot')\n",
    "\n",
    "import warnings\n",
    "warnings.filterwarnings('ignore')"
   ]
  },
  {
   "cell_type": "code",
   "execution_count": null,
   "id": "1c53a821",
   "metadata": {},
   "outputs": [],
   "source": [
    "# SET GLOBAL VARIABLES\n",
    "RAW_PATH = '../data/raw'\n",
    "# '/content/drive/Shared drives/DS4A_2021/Team74/data/raw'\n",
    "# STAGE_FILE = '../data/stage/loan_files_stage.csv'\n",
    "STAGE_FILE = '../data/stage/loan_w_all_demog.csv'\n",
    "# STAGE_FILE = '../data/stage/fl.csv'\n",
    "# '/content/drive/Shared drives/DS4A_2021/Team74/data/stage/loan_files_stage.csv'\n",
    "NAICS_CODES = '../data/meta/naics-codes.csv'\n",
    "PROFIT_STATUS = '../data/meta/profit_status.csv'\n",
    "REPORT_NAME_DIRTY = 'PPP PROFILE BEFORE CLEANING'\n",
    "REPORT_NAME_CLEAN = 'PPP PROFILE AFTER CLEANING'\n",
    "REPORT_LOCATION = '../data/meta/'\n",
    "REPORT_DIRTY_SAVE = 'PPP_PROFILE_BEFORE_CLEANING.html'\n",
    "REPORT_CLEAN_SAVE = 'PPP_PROFILE_AFTER_CLEANING.html'"
   ]
  },
  {
   "cell_type": "code",
   "execution_count": null,
   "id": "25329b92",
   "metadata": {},
   "outputs": [],
   "source": [
    "# reloading \n",
    "df = pd.read_csv(STAGE_FILE)\n"
   ]
  },
  {
   "cell_type": "markdown",
   "id": "9ad76e4c",
   "metadata": {},
   "source": [
    "##  PANDAS"
   ]
  },
  {
   "cell_type": "code",
   "execution_count": null,
   "id": "43ac9f9d",
   "metadata": {
    "scrolled": true
   },
   "outputs": [],
   "source": [
    "# merging the files PANDAS\n",
    "\n",
    "all_files = glob.glob(RAW_PATH + \"/*.csv\") #returns list of all joined files \n",
    "dtypes = {'jobsreported': np.int64,'originatinglenderlocationid': np.int64,'sbaofficecode': np.int64,\n",
    "          'servicinglenderlocationid': np.int64, 'FranchiseName':'category', 'NonProfit':'category'} #Dtype dict\n",
    "li = []   \n",
    "\n",
    "for filename in all_files:\n",
    "    df_file = pd.read_csv(filename,dtype=dtypes, index_col=None, header=0)\n",
    "    li.append(df_file)\n",
    "\n",
    "df = pd.concat(li, axis=0, ignore_index=True)"
   ]
  },
  {
   "cell_type": "markdown",
   "id": "3e817838",
   "metadata": {},
   "source": [
    "## DATAFRAME INFO - run before and after cleaning"
   ]
  },
  {
   "cell_type": "code",
   "execution_count": null,
   "id": "ea87d2cc",
   "metadata": {},
   "outputs": [],
   "source": [
    "# be careful with this, remove defaults so you can see all columns and rows\n",
    "pd.set_option(\"display.max_columns\", None)\n",
    "pd.set_option(\"display.max_rows\", None)"
   ]
  },
  {
   "cell_type": "code",
   "execution_count": null,
   "id": "0197558d",
   "metadata": {},
   "outputs": [],
   "source": [
    "#generate profile report - before cleaning and save it\n",
    "profile = ProfileReport(df, minimal=True, title=REPORT_NAME_DIRTY)\n",
    "profile.to_notebook_iframe()\n",
    "profile.to_file(REPORT_LOCATION + REPORT_DIRTY_SAVE)"
   ]
  },
  {
   "cell_type": "code",
   "execution_count": null,
   "id": "64de2dc0",
   "metadata": {},
   "outputs": [],
   "source": [
    "df.head()"
   ]
  },
  {
   "cell_type": "code",
   "execution_count": null,
   "id": "deee7bca",
   "metadata": {},
   "outputs": [],
   "source": [
    "df.shape"
   ]
  },
  {
   "cell_type": "code",
   "execution_count": null,
   "id": "aee289fc",
   "metadata": {},
   "outputs": [],
   "source": [
    "df.describe()"
   ]
  },
  {
   "cell_type": "code",
   "execution_count": null,
   "id": "e2de87e0",
   "metadata": {},
   "outputs": [],
   "source": [
    "# how many empty values in each column?\n",
    "df.isna().sum()"
   ]
  },
  {
   "cell_type": "code",
   "execution_count": null,
   "id": "bc68a03c",
   "metadata": {},
   "outputs": [],
   "source": [
    "df.info()"
   ]
  },
  {
   "cell_type": "code",
   "execution_count": null,
   "id": "52729fbf",
   "metadata": {},
   "outputs": [],
   "source": [
    "df['PAYROLL_PROCEED'].count()"
   ]
  },
  {
   "cell_type": "code",
   "execution_count": null,
   "id": "24c0ca9f",
   "metadata": {},
   "outputs": [],
   "source": [
    "# not getting all my values filled in nonProfit for llc, sup?\n",
    "df.loc[df['BusinessType'] == 'Limited Liability Company(LLC)']"
   ]
  },
  {
   "cell_type": "code",
   "execution_count": null,
   "id": "4a0e0c1b",
   "metadata": {},
   "outputs": [],
   "source": [
    "df.sample(50)"
   ]
  },
  {
   "cell_type": "markdown",
   "id": "dcc7ef6a",
   "metadata": {},
   "source": [
    "### UNIQUE VALUES "
   ]
  },
  {
   "cell_type": "code",
   "execution_count": null,
   "id": "7e1dd279",
   "metadata": {},
   "outputs": [],
   "source": [
    "\n",
    "# get unique business types PANDAS\n",
    "df.drop_duplicates(subset=['BusinessType'])"
   ]
  },
  {
   "cell_type": "code",
   "execution_count": null,
   "id": "d34ea027",
   "metadata": {},
   "outputs": [],
   "source": [
    "# get unique nonprofit types PANDAS\n",
    "df['NonProfit'].unique().tolist()"
   ]
  },
  {
   "cell_type": "code",
   "execution_count": null,
   "id": "3bd5164c",
   "metadata": {},
   "outputs": [],
   "source": [
    "# get unique ethnicity types PANDAS\n",
    "df['Ethnicity'].unique().tolist()"
   ]
  },
  {
   "cell_type": "code",
   "execution_count": null,
   "id": "06fba09f",
   "metadata": {},
   "outputs": [],
   "source": [
    "# get unique ethnicity types PANDAS\n",
    "df['Gender'].unique().tolist()"
   ]
  },
  {
   "cell_type": "code",
   "execution_count": null,
   "id": "26d774a0",
   "metadata": {},
   "outputs": [],
   "source": [
    "# get unique ethnicity types PANDAS\n",
    "df['Veteran'].unique().tolist()"
   ]
  },
  {
   "cell_type": "code",
   "execution_count": null,
   "id": "3ba7d33f",
   "metadata": {},
   "outputs": [],
   "source": [
    "# get unique race types PANDAS\n",
    "df['Race'].unique().tolist()"
   ]
  },
  {
   "cell_type": "code",
   "execution_count": null,
   "id": "8e04a07c",
   "metadata": {},
   "outputs": [],
   "source": [
    "# get unique status types PANDAS\n",
    "df['Status'].unique().tolist()"
   ]
  },
  {
   "cell_type": "markdown",
   "id": "36a6dd01",
   "metadata": {},
   "source": [
    "## CLEAN UP DATA"
   ]
  },
  {
   "cell_type": "code",
   "execution_count": null,
   "id": "d317ff56",
   "metadata": {},
   "outputs": [],
   "source": [
    "#Remove commas from the column \n",
    "df['BorrowerName'] = df['BorrowerName'].str.replace(\",\",\"\")\n",
    "#strip leading and trailing space\n",
    "df['BorrowerName'] = df['BorrowerName'].str.strip()\n",
    "#Applying uppercase to a column\n",
    "df['BorrowerName'] = df['BorrowerName'].str.upper()\n",
    "#Remove commas from all other column\n",
    "df = df.replace(',','', regex=True)"
   ]
  },
  {
   "cell_type": "code",
   "execution_count": null,
   "id": "04de0d41",
   "metadata": {},
   "outputs": [],
   "source": [
    "# remove extra spaces in businessTypes\n",
    "df['BusinessType'] = df['BusinessType'].str.replace('\\s{2,}', ' ', regex=True)"
   ]
  },
  {
   "cell_type": "code",
   "execution_count": null,
   "id": "bed55e12",
   "metadata": {},
   "outputs": [],
   "source": [
    "#Drop rows containing empty borrowerName and CurrentApprovalAmount  PANDAS\n",
    "\n",
    "df['CurrentApprovalAmount'].replace('', np.nan, inplace=True)\n",
    "df['BorrowerName'].replace('', np.nan, inplace=True)\n",
    "df.dropna(subset=['CurrentApprovalAmount','BorrowerName'], inplace=True)"
   ]
  },
  {
   "cell_type": "code",
   "execution_count": null,
   "id": "e2210a30",
   "metadata": {},
   "outputs": [],
   "source": [
    "# only when eliminating empty demog data\n",
    "# df['Ethnicity'].replace('nan', np.nan, inplace=True)"
   ]
  },
  {
   "cell_type": "code",
   "execution_count": null,
   "id": "1ba9fac0",
   "metadata": {},
   "outputs": [],
   "source": [
    "# get rid of weird Nan strings in status\n",
    "# df['Status'].replace('Nan', np.nan, inplace=True)"
   ]
  },
  {
   "cell_type": "code",
   "execution_count": null,
   "id": "b1e1fdd2",
   "metadata": {},
   "outputs": [],
   "source": [
    "#replace N/A and Unanswered with nan in each column  - there's a faster way to do this\n",
    "df = df.replace('Unanswered',np.nan, regex=True)\n",
    "df = df.replace('N/A',np.nan, regex=True)"
   ]
  },
  {
   "cell_type": "code",
   "execution_count": null,
   "id": "a1da367a",
   "metadata": {},
   "outputs": [],
   "source": [
    "#Remove last 4 digits of zip\n",
    "df['BorrowerZip'] = df['BorrowerZip'].astype(str).str[:5]\n",
    "df['ProjectZip'] = df['ProjectZip'].astype(str).str[:5]\n",
    "df['ServicingLenderZip'] = df['ServicingLenderZip'].astype(str).str[:5]"
   ]
  },
  {
   "cell_type": "code",
   "execution_count": null,
   "id": "05017f60",
   "metadata": {},
   "outputs": [],
   "source": [
    "#Convert data types - isn't this getting set during conversion?   PANDAS\n",
    "df['DateApproved'] = pd.to_datetime(df['DateApproved'])\n",
    "df['LoanStatusDate'] = pd.to_datetime(df['LoanStatusDate']) \n",
    "df['LoanStatus'] = df.LoanStatus.astype('category')\n",
    "df['BorrowerState'] = df.BorrowerState.astype('category')\n",
    "df['Race'] = df.Race.astype('category')\n",
    "df['BorrowerZip'] = df.BorrowerZip.astype('category')\n",
    "df['ServicingLenderZip'] = df.ServicingLenderZip.astype('category')\n",
    "df['ProjectZip'] = df.ProjectZip.astype('category')"
   ]
  },
  {
   "cell_type": "code",
   "execution_count": null,
   "id": "1882f93f",
   "metadata": {},
   "outputs": [],
   "source": [
    "# NaN BusinessType converted to ‘unknown’\n",
    "df['BusinessType'] = df['BusinessType'].fillna('UNKNOWN')"
   ]
  },
  {
   "cell_type": "code",
   "execution_count": null,
   "id": "160b78c9",
   "metadata": {},
   "outputs": [],
   "source": [
    "# drop dupe LoanNumber - PANDAS\n",
    "df = df.drop_duplicates(subset=['LoanNumber'], keep='first')"
   ]
  },
  {
   "cell_type": "code",
   "execution_count": null,
   "id": "4c61ace3",
   "metadata": {},
   "outputs": [],
   "source": [
    "# make empty PAYROLL_PROCEED == 0\n",
    "df['PAYROLL_PROCEED'] = df['PAYROLL_PROCEED'].fillna(0)"
   ]
  },
  {
   "cell_type": "code",
   "execution_count": null,
   "id": "d5387369",
   "metadata": {},
   "outputs": [],
   "source": [
    "# fill in the NonProfit column with dictionary of values we've mapped\n",
    "nonprofit_status = pd.read_csv(PROFIT_STATUS, skipinitialspace=True)\n",
    "mapping = dict(nonprofit_status[['BusinessType', 'nonprofit']].values)\n",
    "df['NonProfit'] = df['BusinessType'].map(mapping)"
   ]
  },
  {
   "cell_type": "markdown",
   "id": "27d20643",
   "metadata": {},
   "source": [
    "# ADD NEW COLUMNS"
   ]
  },
  {
   "cell_type": "code",
   "execution_count": null,
   "id": "ce2405a0",
   "metadata": {},
   "outputs": [],
   "source": [
    "# create a new column - convert naics code to sector    ^([0-9]{2})\n",
    "# lets do this the hard way, create a new column called sector, populate it with naics - first 2 digits\n",
    "\n",
    "search = []  \n",
    "regex_code = '^([0-9]{2})'\n",
    "for values in df['NAICSCode'].fillna('').apply(str):\n",
    "    try:\n",
    "        search.append(re.search(r'^([0-9]{2})', values).group())\n",
    "    except AttributeError:\n",
    "        search.append(re.search(r'^([0-9]{2})', values))\n",
    "df['sector'] = search\n",
    "df['sector'].fillna(0, inplace=True)\n",
    "df['sector'] = df.sector.astype('int64')\n",
    "# df['sector'].unique()"
   ]
  },
  {
   "cell_type": "code",
   "execution_count": null,
   "id": "ad75b7c0",
   "metadata": {},
   "outputs": [],
   "source": [
    "# now lets convert those to the sector values from our naic file - good lord this was work\n",
    "naic = pd.read_csv(NAICS_CODES ,skipinitialspace=True)\n",
    "naic.info()\n",
    "mapping = dict(naic[['Sector','Definition']].values)\n",
    "df['sector'] = df['sector'].map(mapping)"
   ]
  },
  {
   "cell_type": "code",
   "execution_count": null,
   "id": "8890636c",
   "metadata": {},
   "outputs": [],
   "source": [
    "# add new column - payroll as percent of loan, 1 dec places\n",
    "df['payrollPctLoan'] = ((df['PAYROLL_PROCEED']/df['CurrentApprovalAmount']).round(decimals=1) * 100).astype(float)"
   ]
  },
  {
   "cell_type": "code",
   "execution_count": null,
   "id": "f59c877f",
   "metadata": {},
   "outputs": [],
   "source": [
    "#generate profile report - after cleaning and save it\n",
    "profile = ProfileReport(df, minimal=True, title=REPORT_NAME_CLEAN)\n",
    "profile.to_notebook_iframe()\n",
    "profile.to_file(REPORT_LOCATION + REPORT_CLEAN_SAVE)"
   ]
  },
  {
   "cell_type": "code",
   "execution_count": null,
   "id": "cbe53394",
   "metadata": {},
   "outputs": [],
   "source": [
    "# write merged dataframe to drive\n",
    "# df.to_csv (STAGE_FILE, index = None, header=True) \n",
    "# df.to_csv ('../data/stage/loan_w_all_demog.csv', index = None, header=True) \n",
    "# df.to_csv ('../data/stage/fl_w_all_demog.csv', index = None, header=True) "
   ]
  },
  {
   "cell_type": "code",
   "execution_count": null,
   "id": "2705f397",
   "metadata": {
    "scrolled": true
   },
   "outputs": [],
   "source": [
    "df.isna().sum()"
   ]
  },
  {
   "cell_type": "code",
   "execution_count": null,
   "id": "77d57c70",
   "metadata": {},
   "outputs": [],
   "source": [
    "df.count"
   ]
  },
  {
   "cell_type": "code",
   "execution_count": null,
   "id": "9609366d",
   "metadata": {},
   "outputs": [],
   "source": [
    "df.dropna(subset=['Race'], inplace=True)"
   ]
  },
  {
   "cell_type": "code",
   "execution_count": null,
   "id": "d8b6df72",
   "metadata": {},
   "outputs": [],
   "source": [
    "df.dropna(subset=['Gender'], inplace=True)"
   ]
  },
  {
   "cell_type": "code",
   "execution_count": null,
   "id": "d49f473e",
   "metadata": {},
   "outputs": [],
   "source": [
    "df.dropna(subset=['Veteran'], inplace=True)"
   ]
  },
  {
   "cell_type": "code",
   "execution_count": null,
   "id": "d11cc014",
   "metadata": {},
   "outputs": [],
   "source": [
    "df.dropna(subset=['Ethnicity'], inplace=True)"
   ]
  },
  {
   "cell_type": "code",
   "execution_count": null,
   "id": "9b48cf36",
   "metadata": {},
   "outputs": [],
   "source": [
    "df.dropna(subset=['Status'], inplace=True)"
   ]
  },
  {
   "cell_type": "code",
   "execution_count": null,
   "id": "bb2266d8",
   "metadata": {
    "scrolled": false
   },
   "outputs": [],
   "source": [
    "df_correlations = df.corr()\n",
    "# mask the upper half for viz purposes\n",
    "mask = np.zeros_like(df_correlations, dtype=np.bool)\n",
    "mask[np.triu_indices_from(mask)] = True\n",
    "\n",
    "# draw heatmap with mask and correct aspect ratio\n",
    "plt.figure(figsize = (10,10))\n",
    "plt.title('PPP Univariate Correlation Heatmap')\n",
    "cmap = sns.diverging_palette(220, 10, as_cmap=True)\n",
    "sns.heatmap(df_correlations, mask=mask, vmax=1, vmin=-1, cmap=cmap, center=0, square=True, \n",
    "            linewidths=.5, cbar_kws={'shrink': .5});"
   ]
  },
  {
   "cell_type": "code",
   "execution_count": null,
   "id": "0aabe527",
   "metadata": {},
   "outputs": [],
   "source": [
    "# demog vs loan amount\n",
    "def demog_vs_num(demog, num_value):\n",
    "    df[[demog,num_value]].groupby(demog).mean().sort_values('CurrentApprovalAmount', \n",
    "                                                            ascending=False).plot.bar(figsize=(20,10),rot=0)\n",
    "    plt.title(demog + \" vs Mean Approval Amount\")\n",
    "    plt.xticks(fontsize=25)\n",
    "    plt.yticks(fontsize=25)\n",
    "    plt.xlabel(demog, fontsize=25)\n",
    "    plt.ylabel('Current Approval Amount', fontsize=25)\n",
    "    plt.title(demog + \" vs Mean Approval Amount\", fontsize=50)\n",
    "    "
   ]
  },
  {
   "cell_type": "code",
   "execution_count": null,
   "id": "4f9386d3",
   "metadata": {},
   "outputs": [],
   "source": [
    "demog_vs_num('Race', 'CurrentApprovalAmount')"
   ]
  },
  {
   "cell_type": "code",
   "execution_count": null,
   "id": "5c72e364",
   "metadata": {},
   "outputs": [],
   "source": [
    "demog_vs_num('Gender', 'CurrentApprovalAmount')"
   ]
  },
  {
   "cell_type": "code",
   "execution_count": null,
   "id": "fdd7e56a",
   "metadata": {},
   "outputs": [],
   "source": [
    "demog_vs_num('Veteran', 'CurrentApprovalAmount')"
   ]
  },
  {
   "cell_type": "code",
   "execution_count": null,
   "id": "72cf2cb7",
   "metadata": {
    "scrolled": false
   },
   "outputs": [],
   "source": [
    "demog_vs_num('Ethnicity', 'CurrentApprovalAmount')"
   ]
  },
  {
   "cell_type": "code",
   "execution_count": null,
   "id": "165d2156",
   "metadata": {},
   "outputs": [],
   "source": [
    "# group by multiple demogs\n",
    "def multiple_demogs(first, second):\n",
    "        \n",
    "    ax = df[[first, second,'CurrentApprovalAmount']].groupby([first, second])\\\n",
    "    .mean().sort_values('CurrentApprovalAmount', ascending=False).plot.bar(figsize=(75,20))\n",
    "    \n",
    "    # get actual numbers\n",
    "    for p in ax.patches:                 \n",
    "        ax.annotate(np.round(p.get_height(),decimals=1),\n",
    "        (p.get_x()+p.get_width()/2., p.get_height()), \n",
    "        ha='center', va='center',xytext=(0, 25), \n",
    "        textcoords='offset points', fontsize=30)\n",
    "    \n",
    "    plt.title(first + '/' + second + \" vs Mean Approval Amount\", fontsize=75)\n",
    "    plt.xticks(rotation=45,ha='right',fontsize=50)\n",
    "    plt.yticks(fontsize=50)\n",
    "    plt.xlabel(first + '/' + second,fontsize=50)\n",
    "    plt.ylabel('Current Approval Amount', fontsize=50)\n",
    "    plt.show()"
   ]
  },
  {
   "cell_type": "code",
   "execution_count": null,
   "id": "a11bd5b3",
   "metadata": {},
   "outputs": [],
   "source": [
    "# race and gender\n",
    "multiple_demogs('Race', 'Gender')"
   ]
  },
  {
   "cell_type": "code",
   "execution_count": null,
   "id": "f84c41e2",
   "metadata": {
    "scrolled": true
   },
   "outputs": [],
   "source": [
    "# get the means as df\n",
    "race_gender_app_mean = df[['Race', 'Gender','CurrentApprovalAmount']].groupby(['Race', 'Gender'])\\\n",
    "    .mean().sort_values('CurrentApprovalAmount', ascending=False).round(1)\n"
   ]
  },
  {
   "cell_type": "code",
   "execution_count": null,
   "id": "3d95d82a",
   "metadata": {},
   "outputs": [],
   "source": [
    "race_gender_app_mean.to_csv ('../data/stage/race_gender_app_mea.csv', header=True) "
   ]
  },
  {
   "cell_type": "code",
   "execution_count": null,
   "id": "63d0b126",
   "metadata": {},
   "outputs": [],
   "source": [
    "multiple_demogs('Ethnicity', 'Gender')"
   ]
  },
  {
   "cell_type": "code",
   "execution_count": null,
   "id": "ee49ce60",
   "metadata": {},
   "outputs": [],
   "source": [
    "# convert status to number so we can get liklihoods\n"
   ]
  }
 ],
 "metadata": {
  "kernelspec": {
   "display_name": "Python 3",
   "language": "python",
   "name": "python3"
  },
  "language_info": {
   "codemirror_mode": {
    "name": "ipython",
    "version": 3
   },
   "file_extension": ".py",
   "mimetype": "text/x-python",
   "name": "python",
   "nbconvert_exporter": "python",
   "pygments_lexer": "ipython3",
   "version": "3.8.8"
  }
 },
 "nbformat": 4,
 "nbformat_minor": 5
}
