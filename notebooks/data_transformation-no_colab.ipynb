{
 "cells": [
  {
   "cell_type": "code",
   "execution_count": null,
   "id": "06af70bf",
   "metadata": {},
   "outputs": [],
   "source": [
    "# run requirements.txt for all dependencies\n",
    "\n",
    "import pandas as pd\n",
    "import numpy as np\n",
    "import glob\n",
    "import os\n",
    "import dask\n",
    "import dask.dataframe as dd\n",
    "import dask.array as da\n",
    "#import scripts.dask_impl as di\n",
    "import re\n",
    "from pandas_profiling import ProfileReport"
   ]
  },
  {
   "cell_type": "code",
   "execution_count": null,
   "id": "1c53a821",
   "metadata": {},
   "outputs": [],
   "source": [
    "# SET GLOBAL VARIABLES\n",
    "RAW_PATH = '../data/raw'\n",
    "# '/content/drive/Shared drives/DS4A_2021/Team74/data/raw'\n",
    "STAGE_FILE = '../data/stage/loan_files_stage.csv'\n",
    "# '/content/drive/Shared drives/DS4A_2021/Team74/data/stage/loan_files_stage.csv'\n",
    "NAICS_CODES = '../data/meta/naics-codes.csv'\n",
    "PROFIT_STATUS = '../data/meta/profit_status.csv'\n",
    "REPORT_NAME_DIRTY = 'PPP PROFILE BEFORE CLEANING'\n",
    "REPORT_NAME_CLEAN = 'PPP PROFILE AFTER CLEANING'\n",
    "REPORT_LOCATION = '../data/meta/'\n",
    "REPORT_DIRTY_SAVE = 'PPP_PROFILE_BEFORE_CLEANING.html'\n",
    "REPORT_CLEAN_SAVE = 'PPP_PROFILE_AFTER_CLEANING.html'"
   ]
  },
  {
   "cell_type": "markdown",
   "id": "9ad76e4c",
   "metadata": {},
   "source": [
    "##  PANDAS"
   ]
  },
  {
   "cell_type": "code",
   "execution_count": null,
   "id": "43ac9f9d",
   "metadata": {
    "scrolled": true
   },
   "outputs": [],
   "source": [
    "# merging the files PANDAS\n",
    "\n",
    "all_files = glob.glob(RAW_PATH + \"/*.csv\") #returns list of all joined files \n",
    "dtypes = {'jobsreported': np.int64,'originatinglenderlocationid': np.int64,'sbaofficecode': np.int64,\n",
    "          'servicinglenderlocationid': np.int64, 'FranchiseName':'category', 'NonProfit':'category'} #Dtype dict\n",
    "li = []   \n",
    "\n",
    "for filename in all_files:\n",
    "    df_file = pd.read_csv(filename,dtype=dtypes, index_col=None, header=0)\n",
    "    li.append(df_file)\n",
    "\n",
    "df = pd.concat(li, axis=0, ignore_index=True)"
   ]
  },
  {
   "cell_type": "markdown",
   "id": "3e817838",
   "metadata": {},
   "source": [
    "## DATAFRAME INFO - run before and after cleaning"
   ]
  },
  {
   "cell_type": "code",
   "execution_count": null,
   "id": "ea87d2cc",
   "metadata": {},
   "outputs": [],
   "source": [
    "# be careful with this, remove defaults so you can see all columns and rows\n",
    "pd.set_option(\"display.max_columns\", None)\n",
    "pd.set_option(\"display.max_rows\", None)"
   ]
  },
  {
   "cell_type": "code",
   "execution_count": null,
   "id": "0197558d",
   "metadata": {},
   "outputs": [],
   "source": [
    "#generate profile report - before cleaning and save it\n",
    "profile = ProfileReport(df, title=REPORT_NAME_DIRTY)\n",
    "profile.to_notebook_iframe()\n",
    "profile.to_file(REPORT_LOCATION + REPORT_DIRTY_SAVE)"
   ]
  },
  {
   "cell_type": "code",
   "execution_count": null,
   "id": "64de2dc0",
   "metadata": {},
   "outputs": [],
   "source": [
    "df.head()"
   ]
  },
  {
   "cell_type": "code",
   "execution_count": null,
   "id": "deee7bca",
   "metadata": {},
   "outputs": [],
   "source": [
    "df.shape"
   ]
  },
  {
   "cell_type": "code",
   "execution_count": null,
   "id": "aee289fc",
   "metadata": {},
   "outputs": [],
   "source": [
    "df.describe()"
   ]
  },
  {
   "cell_type": "code",
   "execution_count": null,
   "id": "e2de87e0",
   "metadata": {},
   "outputs": [],
   "source": [
    "# how many empty values in each column?\n",
    "df.isna().sum()"
   ]
  },
  {
   "cell_type": "code",
   "execution_count": null,
   "id": "bc68a03c",
   "metadata": {},
   "outputs": [],
   "source": [
    "df.info()"
   ]
  },
  {
   "cell_type": "code",
   "execution_count": null,
   "id": "52729fbf",
   "metadata": {},
   "outputs": [],
   "source": [
    "df['PAYROLL_PROCEED'].count()"
   ]
  },
  {
   "cell_type": "code",
   "execution_count": null,
   "id": "24c0ca9f",
   "metadata": {},
   "outputs": [],
   "source": [
    "# not getting all my values filled in nonProfit for llc, sup?\n",
    "df.loc[df['BusinessType'] == 'Limited Liability Company(LLC)']"
   ]
  },
  {
   "cell_type": "code",
   "execution_count": null,
   "id": "4a0e0c1b",
   "metadata": {},
   "outputs": [],
   "source": [
    "df.sample(50)"
   ]
  },
  {
   "cell_type": "markdown",
   "id": "dcc7ef6a",
   "metadata": {},
   "source": [
    "### UNIQUE VALUES "
   ]
  },
  {
   "cell_type": "code",
   "execution_count": null,
   "id": "7e1dd279",
   "metadata": {},
   "outputs": [],
   "source": [
    "\n",
    "# get unique business types PANDAS\n",
    "df.drop_duplicates(subset=['BusinessType'])"
   ]
  },
  {
   "cell_type": "code",
   "execution_count": null,
   "id": "d34ea027",
   "metadata": {},
   "outputs": [],
   "source": [
    "# get unique nonprofit types PANDAS\n",
    "df['NonProfit'].unique().tolist()"
   ]
  },
  {
   "cell_type": "code",
   "execution_count": null,
   "id": "3bd5164c",
   "metadata": {},
   "outputs": [],
   "source": [
    "# get unique ethnicity types PANDAS\n",
    "df['Ethnicity'].unique().tolist()"
   ]
  },
  {
   "cell_type": "code",
   "execution_count": null,
   "id": "3ba7d33f",
   "metadata": {},
   "outputs": [],
   "source": [
    "# get unique race types PANDAS\n",
    "df['Race'].unique().tolist()"
   ]
  },
  {
   "cell_type": "markdown",
   "id": "36a6dd01",
   "metadata": {},
   "source": [
    "## CLEAN UP DATA"
   ]
  },
  {
   "cell_type": "code",
   "execution_count": null,
   "id": "d317ff56",
   "metadata": {},
   "outputs": [],
   "source": [
    "#Remove commas from the column \n",
    "df['BorrowerName'] = df['BorrowerName'].str.replace(\",\",\"\")\n",
    "#strip leading and trailing space\n",
    "df['BorrowerName'] = df['BorrowerName'].str.strip()\n",
    "#Applying uppercase to a column\n",
    "df['BorrowerName'] = df['BorrowerName'].str.upper()\n",
    "#Remove commas from all other column\n",
    "df = df.replace(',','', regex=True)"
   ]
  },
  {
   "cell_type": "code",
   "execution_count": null,
   "id": "04de0d41",
   "metadata": {},
   "outputs": [],
   "source": [
    "# remove extra spaces in businessTypes\n",
    "df['BusinessType'] = df['BusinessType'].str.replace('\\s{2,}', ' ', regex=True)"
   ]
  },
  {
   "cell_type": "code",
   "execution_count": null,
   "id": "bed55e12",
   "metadata": {},
   "outputs": [],
   "source": [
    "#Drop rows containing empty borrowerName and CurrentApprovalAmount  PANDAS\n",
    "\n",
    "df['CurrentApprovalAmount'].replace('', np.nan, inplace=True)\n",
    "df['BorrowerName'].replace('', np.nan, inplace=True)\n",
    "df.dropna(subset=['CurrentApprovalAmount','BorrowerName'], inplace=True)"
   ]
  },
  {
   "cell_type": "code",
   "execution_count": null,
   "id": "b1e1fdd2",
   "metadata": {},
   "outputs": [],
   "source": [
    "#replace N/A and Unanswered with nan in each column  - there's a faster way to do this\n",
    "df = df.replace('Unanswered',np.nan, regex=True)\n",
    "df = df.replace('N/A',np.nan, regex=True)"
   ]
  },
  {
   "cell_type": "code",
   "execution_count": null,
   "id": "a1da367a",
   "metadata": {},
   "outputs": [],
   "source": [
    "#Remove last 4 digits of zip\n",
    "df['BorrowerZip'] = df['BorrowerZip'].str[:5]\n",
    "df['ProjectZip'] = df['ProjectZip'].str[:5]\n",
    "df['ServicingLenderZip'] = df['ServicingLenderZip'].str[:5]"
   ]
  },
  {
   "cell_type": "code",
   "execution_count": null,
   "id": "05017f60",
   "metadata": {},
   "outputs": [],
   "source": [
    "#Convert data types - isn't this getting set during conversion?   PANDAS\n",
    "df['DateApproved'] = pd.to_datetime(df['DateApproved'])\n",
    "df['LoanStatusDate'] = pd.to_datetime(df['LoanStatusDate']) \n",
    "df['LoanStatus'] = df.LoanStatus.astype('category')\n",
    "df['BorrowerState'] = df.BorrowerState.astype('category')\n",
    "df['Race'] = df.Race.astype('category')\n",
    "df['BorrowerZip'] = df.BorrowerZip.astype('category')\n",
    "df['ServicingLenderZip'] = df.ServicingLenderZip.astype('category')\n",
    "df['ProjectZip'] = df.ProjectZip.astype('category')"
   ]
  },
  {
   "cell_type": "code",
   "execution_count": null,
   "id": "1882f93f",
   "metadata": {},
   "outputs": [],
   "source": [
    "# NaN BusinessType converted to ‘unknown’\n",
    "df['BusinessType'] = df['BusinessType'].fillna('UNKNOWN')"
   ]
  },
  {
   "cell_type": "code",
   "execution_count": null,
   "id": "160b78c9",
   "metadata": {},
   "outputs": [],
   "source": [
    "# drop dupe LoanNumber - PANDAS\n",
    "df = df.drop_duplicates(subset=['LoanNumber'], keep='first')"
   ]
  },
  {
   "cell_type": "code",
   "execution_count": null,
   "id": "4c61ace3",
   "metadata": {},
   "outputs": [],
   "source": [
    "# make empty PAYROLL_PROCEED == 0\n",
    "df['PAYROLL_PROCEED'] = df['PAYROLL_PROCEED'].fillna(0)"
   ]
  },
  {
   "cell_type": "code",
   "execution_count": null,
   "id": "d5387369",
   "metadata": {},
   "outputs": [],
   "source": [
    "# fill in the NonProfit column with dictionary of values we've mapped\n",
    "nonprofit_status = pd.read_csv(PROFIT_STATUS, skipinitialspace=True)\n",
    "mapping = dict(nonprofit_status[['BusinessType', 'nonprofit']].values)\n",
    "df['NonProfit'] = df['BusinessType'].map(mapping)"
   ]
  },
  {
   "cell_type": "markdown",
   "id": "27d20643",
   "metadata": {},
   "source": [
    "# ADD NEW COLUMNS"
   ]
  },
  {
   "cell_type": "code",
   "execution_count": null,
   "id": "ce2405a0",
   "metadata": {},
   "outputs": [],
   "source": [
    "# create a new column - convert naics code to sector    ^([0-9]{2})\n",
    "# lets do this the hard way, create a new column called sector, populate it with naics - first 2 digits\n",
    "\n",
    "search = []  \n",
    "regex_code = '^([0-9]{2})'\n",
    "for values in df['NAICSCode'].fillna('').apply(str):\n",
    "    try:\n",
    "        search.append(re.search(r'^([0-9]{2})', values).group())\n",
    "    except AttributeError:\n",
    "        search.append(re.search(r'^([0-9]{2})', values))\n",
    "df['sector'] = search\n",
    "df['sector'].fillna(0, inplace=True)\n",
    "df['sector'] = df.sector.astype('int64')\n",
    "# df['sector'].unique()"
   ]
  },
  {
   "cell_type": "code",
   "execution_count": null,
   "id": "ad75b7c0",
   "metadata": {},
   "outputs": [],
   "source": [
    "# now lets convert those to the sector values from our naic file - good lord this was work\n",
    "naic = pd.read_csv(NAICS_CODES ,skipinitialspace=True)\n",
    "naic.info()\n",
    "mapping = dict(naic[['Sector','Definition']].values)\n",
    "df['sector'] = df['sector'].map(mapping)"
   ]
  },
  {
   "cell_type": "code",
   "execution_count": null,
   "id": "8890636c",
   "metadata": {},
   "outputs": [],
   "source": [
    "# add new column - payroll as percent of loan, 1 dec places\n",
    "df['payrollPctLoan'] = ((df['PAYROLL_PROCEED']/df['CurrentApprovalAmount']).round(decimals=1) * 100).astype(float)"
   ]
  },
  {
   "cell_type": "code",
   "execution_count": null,
   "id": "25329b92",
   "metadata": {},
   "outputs": [],
   "source": [
    "# reloading just for the report, don't run this normally\n",
    "df = pd.read_csv(STAGE_FILE)\n"
   ]
  },
  {
   "cell_type": "code",
   "execution_count": null,
   "id": "f59c877f",
   "metadata": {},
   "outputs": [],
   "source": [
    "#generate profile report - after cleaning and save it\n",
    "profile = ProfileReport(df, minimal=True, title=REPORT_NAME_CLEAN)\n",
    "profile.to_notebook_iframe()\n",
    "profile.to_file(REPORT_LOCATION + REPORT_CLEAN_SAVE)"
   ]
  },
  {
   "cell_type": "code",
   "execution_count": null,
   "id": "cbe53394",
   "metadata": {},
   "outputs": [],
   "source": [
    "# write merged dataframe to drive\n",
    "df.to_csv (STAGE_FILE, index = None, header=True) "
   ]
  }
 ],
 "metadata": {
  "kernelspec": {
   "display_name": "Python 3",
   "language": "python",
   "name": "python3"
  },
  "language_info": {
   "codemirror_mode": {
    "name": "ipython",
    "version": 3
   },
   "file_extension": ".py",
   "mimetype": "text/x-python",
   "name": "python",
   "nbconvert_exporter": "python",
   "pygments_lexer": "ipython3",
   "version": "3.8.8"
  }
 },
 "nbformat": 4,
 "nbformat_minor": 5
}
